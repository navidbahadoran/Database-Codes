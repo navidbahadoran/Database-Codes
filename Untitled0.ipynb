{
  "nbformat": 4,
  "nbformat_minor": 0,
  "metadata": {
    "colab": {
      "provenance": [],
      "authorship_tag": "ABX9TyOwDfbvM6RTckVLJB9Ffoqi",
      "include_colab_link": true
    },
    "kernelspec": {
      "name": "python3",
      "display_name": "Python 3"
    },
    "language_info": {
      "name": "python"
    }
  },
  "cells": [
    {
      "cell_type": "markdown",
      "metadata": {
        "id": "view-in-github",
        "colab_type": "text"
      },
      "source": [
        "<a href=\"https://colab.research.google.com/github/navidbahadoran/Database-Codes/blob/main/Untitled0.ipynb\" target=\"_parent\"><img src=\"https://colab.research.google.com/assets/colab-badge.svg\" alt=\"Open In Colab\"/></a>"
      ]
    },
    {
      "cell_type": "code",
      "execution_count": 20,
      "metadata": {
        "colab": {
          "base_uri": "https://localhost:8080/"
        },
        "id": "98vnNoUfe10d",
        "outputId": "381786b6-71ac-444c-fea6-359901252373"
      },
      "outputs": [
        {
          "output_type": "stream",
          "name": "stdout",
          "text": [
            "The calculation was done using cpu\n"
          ]
        }
      ],
      "source": [
        "\n",
        "# import relavant libraries\n",
        "\n",
        "from PIL import Image\n",
        "import scipy as sp\n",
        "import torch\n",
        "import numpy as np\n",
        "import skimage.graph\n",
        "from skimage.util import map_array\n",
        "from sklearn.cluster import SpectralClustering, KMeans\n",
        "import matplotlib.pyplot as plt\n",
        "from IPython.display import display, Markdown, display_markdown\n",
        "\n",
        "# Determine the device\n",
        "my_device = (\n",
        "    \"cuda\"\n",
        "    if torch.cuda.is_available()\n",
        "    else \"cpu\"\n",
        ")\n",
        "print(f\"The calculation was done using {my_device}\")"
      ]
    },
    {
      "cell_type": "code",
      "source": [
        "x.squeeze()"
      ],
      "metadata": {
        "colab": {
          "base_uri": "https://localhost:8080/"
        },
        "id": "-bl1MJ-GfODc",
        "outputId": "3a65a3bc-0663-43f7-d300-06b22baf765d"
      },
      "execution_count": null,
      "outputs": [
        {
          "output_type": "execute_result",
          "data": {
            "text/plain": [
              "array(1)"
            ]
          },
          "metadata": {},
          "execution_count": 15
        }
      ]
    }
  ]
}